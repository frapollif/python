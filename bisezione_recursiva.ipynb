{
 "cells": [
  {
   "cell_type": "code",
   "execution_count": 2,
   "metadata": {},
   "outputs": [],
   "source": [
    "import numpy as np"
   ]
  },
  {
   "cell_type": "code",
   "execution_count": 16,
   "metadata": {},
   "outputs": [],
   "source": [
    "def f(x):\n",
    "    return np.sin(x**2+2*x)-2*x**2+2\n",
    "\n",
    "\n",
    "def recursive_bisection(f,left,right,tolerance=1e-3):\n",
    "    ''' \n",
    "    Metodo di bisezione ricorsivo per trovare lo zero della funzione f\n",
    "    nell'intervallo [left,right] \n",
    "    tolerance è la tolleranza per la quale si considera lo zero trovato.\n",
    "    '''\n",
    "    if np.sign(f(left))==np.sign(f(right)):\n",
    "        print('Non è garantito che la  funzione non cambi segno in questo intervallo')\n",
    "        raise ValueError('La funzione non cambia segno in questo intervallo')\n",
    "        \n",
    "    m=np.average([left,right])\n",
    "   \n",
    "    if abs(f(m))<tolerance:\n",
    "        return m\n",
    "    elif np.sign(f(m))!=np.sign(f(left)):\n",
    "        return recursive_bisection(f,left,m,tolerance)\n",
    "    else:\n",
    "        return recursive_bisection(f,m,right,tolerance)"
   ]
  },
  {
   "cell_type": "code",
   "execution_count": 19,
   "metadata": {},
   "outputs": [
    {
     "data": {
      "text/plain": [
       "1.017575740814209"
      ]
     },
     "execution_count": 19,
     "metadata": {},
     "output_type": "execute_result"
    }
   ],
   "source": [
    "recursive_bisection(f,1,2, tolerance=1e-6)"
   ]
  },
  {
   "cell_type": "code",
   "execution_count": 13,
   "metadata": {},
   "outputs": [
    {
     "data": {
      "text/plain": [
       "-0.7707386016845703"
      ]
     },
     "execution_count": 13,
     "metadata": {},
     "output_type": "execute_result"
    }
   ],
   "source": [
    "recursive_bisection(f,-1,1, tolerance=1e-6)"
   ]
  },
  {
   "cell_type": "code",
   "execution_count": null,
   "metadata": {},
   "outputs": [],
   "source": []
  }
 ],
 "metadata": {
  "kernelspec": {
   "display_name": "python39",
   "language": "python",
   "name": "python3"
  },
  "language_info": {
   "codemirror_mode": {
    "name": "ipython",
    "version": 3
   },
   "file_extension": ".py",
   "mimetype": "text/x-python",
   "name": "python",
   "nbconvert_exporter": "python",
   "pygments_lexer": "ipython3",
   "version": "3.9.13"
  }
 },
 "nbformat": 4,
 "nbformat_minor": 2
}
