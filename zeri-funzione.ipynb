{
 "cells": [
  {
   "cell_type": "code",
   "execution_count": 1,
   "metadata": {},
   "outputs": [],
   "source": [
    "import numpy as np\n",
    "import matplotlib.pyplot as plt"
   ]
  },
  {
   "cell_type": "code",
   "execution_count": 2,
   "metadata": {},
   "outputs": [],
   "source": [
    "def f(x):\n",
    "    ''' Funzione di cui si vuole calcolare lo zero'''\n",
    "    return np.sin(x**2+2*x)-2*x**2+2"
   ]
  },
  {
   "cell_type": "code",
   "execution_count": 3,
   "metadata": {},
   "outputs": [],
   "source": [
    "x=np.arange(-10,10,0.5)\n",
    "y=f(x)"
   ]
  },
  {
   "cell_type": "code",
   "execution_count": 4,
   "metadata": {},
   "outputs": [],
   "source": [
    "def trova_zeri(x,y):\n",
    "    ''' Trova gli intervalli che contengono gli zeri della funzione'''\n",
    "    zeri=[]\n",
    "    for i in range(len(x)-1):\n",
    "        if y[i]*y[i+1]<0:\n",
    "            zeri.append([x[i],x[i+1]])\n",
    "    return zeri"
   ]
  },
  {
   "cell_type": "code",
   "execution_count": 5,
   "metadata": {},
   "outputs": [
    {
     "name": "stdout",
     "output_type": "stream",
     "text": [
      "Gli zeri della funzione sono compresi negli intervalli:  [[-1.0, -0.5], [1.0, 1.5]]\n"
     ]
    }
   ],
   "source": [
    "intervalli_zeri=trova_zeri(x,y)\n",
    "intervallo1=intervalli_zeri[0]\n",
    "intervallo2=intervalli_zeri[1]\n",
    "print(\"Gli zeri della funzione sono compresi negli intervalli: \",intervalli_zeri)"
   ]
  },
  {
   "cell_type": "code",
   "execution_count": 6,
   "metadata": {},
   "outputs": [],
   "source": [
    "def bisection(f,a,b,N,tolerance=0.0001):\n",
    "    ''' \n",
    "    Metodo di bisezione per trovare lo zero della funzione f\n",
    "    nell'intervallo [a,b] con N iterazioni.\n",
    "    tolerance è la tolleranza per la quale si considera lo zero trovato.\n",
    "    '''\n",
    "   \n",
    "    if f(a)*f(b) >= 0:\n",
    "        print(\"Nessuna soluzione con il merodo di bisezione.\")\n",
    "        return None\n",
    "    a_n = a\n",
    "    b_n = b\n",
    "    n=0\n",
    "    while n<N:\n",
    "        m_n = (a_n + b_n)/2\n",
    "        f_m_n = f(m_n)\n",
    "        if f(a_n)*f_m_n < 0:\n",
    "            a_n = a_n\n",
    "            b_n = m_n\n",
    "        elif f(b_n)*f_m_n < 0:\n",
    "            a_n = m_n\n",
    "            b_n = b_n\n",
    "        elif f_m_n < tolerance:\n",
    "            print(\"Solzione trovata dopo\",n,\"iterazioni.\")\n",
    "            return m_n\n",
    "        else:\n",
    "            print(\"Nessuna soluzione.\")\n",
    "            return None\n",
    "        n=n+1\n",
    "    return (a_n + b_n)/2\n",
    "\n"
   ]
  },
  {
   "cell_type": "code",
   "execution_count": 7,
   "metadata": {},
   "outputs": [
    {
     "name": "stdout",
     "output_type": "stream",
     "text": [
      "Solzione trovata dopo 51 iterazioni.\n"
     ]
    },
    {
     "data": {
      "text/plain": [
       "-0.7707388236988614"
      ]
     },
     "execution_count": 7,
     "metadata": {},
     "output_type": "execute_result"
    }
   ],
   "source": [
    "bisection(f,intervallo1[0],intervallo1[1],100,tolerance=1e-10)"
   ]
  },
  {
   "cell_type": "code",
   "execution_count": 8,
   "metadata": {},
   "outputs": [
    {
     "data": {
      "text/plain": [
       "1.017333984375"
      ]
     },
     "execution_count": 8,
     "metadata": {},
     "output_type": "execute_result"
    }
   ],
   "source": [
    "bisection(f,intervallo2[0],intervallo2[1],10)"
   ]
  },
  {
   "cell_type": "code",
   "execution_count": 16,
   "metadata": {},
   "outputs": [],
   "source": [
    "def df(x):\n",
    "    return np.cos(x**2+2*x)*(2*x+2)-4*x"
   ]
  },
  {
   "cell_type": "code",
   "execution_count": 17,
   "metadata": {},
   "outputs": [],
   "source": [
    "def newton(f,df,x0,tolerance=0.0001):\n",
    "    ''' \n",
    "    Metodo di Newton per trovare lo zero della funzione f\n",
    "    df è la derivata di f\n",
    "    x0 è il punto di partenza\n",
    "    tolerance è la tolleranza per la quale si considera lo zero trovato\n",
    "    '''\n",
    "    delta=abs(f(x0)/df(x0))\n",
    "    while delta>tolerance:\n",
    "        delta=abs(f(x0)/df(x0))\n",
    "        x0=x0-f(x0)/df(x0)\n",
    "    return x0\n"
   ]
  },
  {
   "cell_type": "code",
   "execution_count": 20,
   "metadata": {},
   "outputs": [
    {
     "data": {
      "text/plain": [
       "-0.7707388236988614"
      ]
     },
     "execution_count": 20,
     "metadata": {},
     "output_type": "execute_result"
    }
   ],
   "source": [
    "newton(f,df,intervallo1[0],tolerance=1e-10)"
   ]
  },
  {
   "cell_type": "code",
   "execution_count": 22,
   "metadata": {},
   "outputs": [
    {
     "data": {
      "text/plain": [
       "1.0175757925334004"
      ]
     },
     "execution_count": 22,
     "metadata": {},
     "output_type": "execute_result"
    }
   ],
   "source": [
    "newton(f,df,intervallo2[0],tolerance=1e-6)"
   ]
  },
  {
   "cell_type": "code",
   "execution_count": null,
   "metadata": {},
   "outputs": [
    {
     "data": {
      "image/png": "[encoded data removed]",
      "text/plain": [
       "<Figure size 640x480 with 1 Axes>"
      ]
     },
     "metadata": {},
     "output_type": "display_data"
    }
   ],
   "source": [
    "plt.scatter(x,y)\n",
    "plt.grid( )\n",
    "\n",
    "# plt.xlim(-2,0)\n",
    "# plt.ylim(-1,1)\n",
    "# plt.hlines(0,-10,10)\n",
    "# plt.vlines(0,-200,200)\n",
    "plt.show()"
   ]
  },
  {
   "cell_type": "code",
   "execution_count": null,
   "metadata": {},
   "outputs": [],
   "source": []
  }
 ],
 "metadata": {
  "kernelspec": {
   "display_name": "Python 3",
   "language": "python",
   "name": "python3"
  },
  "language_info": {
   "codemirror_mode": {
    "name": "ipython",
    "version": 3
   },
   "file_extension": ".py",
   "mimetype": "text/x-python",
   "name": "python",
   "nbconvert_exporter": "python",
   "pygments_lexer": "ipython3",
   "version": "3.10.8"
  }
 },
 "nbformat": 4,
 "nbformat_minor": 2
}
