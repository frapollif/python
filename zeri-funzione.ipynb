{
 "cells": [
  {
   "cell_type": "code",
   "execution_count": 2,
   "metadata": {},
   "outputs": [],
   "source": [
    "import numpy as np\n",
    "import matplotlib.pyplot as plt"
   ]
  },
  {
   "cell_type": "code",
   "execution_count": 3,
   "metadata": {},
   "outputs": [],
   "source": [
    "def f(x):\n",
    "    ''' Funzione di cui si vuole calcolare lo zero'''\n",
    "    return np.sin(x**2+2*x)-2*x**2+2"
   ]
  },
  {
   "cell_type": "code",
   "execution_count": 4,
   "metadata": {},
   "outputs": [],
   "source": [
    "x=np.arange(-10,10,0.5)\n",
    "y=f(x)"
   ]
  },
  {
   "cell_type": "code",
   "execution_count": 5,
   "metadata": {},
   "outputs": [
    {
     "data": {
      "text/plain": [
       "array([ 42.67784775,  35.64464096,  32.73888668,  33.3898926 ,\n",
       "        31.74058308,  28.9395609 ,  26.20021432,  24.84499429,\n",
       "        25.59081138,  21.52092103,  15.76380832,  20.91433249,\n",
       "        11.30341452,  15.000109  ,  12.61572922,   7.10203076,\n",
       "         5.63672248,   4.68033555,   3.31966445,   2.36327752,\n",
       "         0.89796924,  -4.61572922,  -7.000109  ,  -3.30341452,\n",
       "       -12.91433249,  -7.76380832, -13.52092103, -17.59081138,\n",
       "       -16.84499429, -18.20021432, -20.9395609 , -23.74058308,\n",
       "       -25.3898926 , -24.73888668, -27.64464096, -34.67784775,\n",
       "       -29.09311919, -38.91751717, -33.70438746])"
      ]
     },
     "execution_count": 5,
     "metadata": {},
     "output_type": "execute_result"
    }
   ],
   "source": [
    "np.diff(y)/np.diff(x)\n"
   ]
  },
  {
   "cell_type": "code",
   "execution_count": 6,
   "metadata": {},
   "outputs": [
    {
     "data": {
      "text/plain": [
       "41.98697038910286"
      ]
     },
     "execution_count": 6,
     "metadata": {},
     "output_type": "execute_result"
    }
   ],
   "source": [
    "(lambda x:np.cos(x**2+2*x)*(2*x+2)-4*x)(-10)"
   ]
  },
  {
   "cell_type": "code",
   "execution_count": 7,
   "metadata": {},
   "outputs": [],
   "source": [
    "def trova_zeri(x,y):\n",
    "    ''' Trova gli intervalli che contengono gli zeri della funzione'''\n",
    "    zeri=[]\n",
    "    for i in range(len(x)-1):\n",
    "        if y[i]*y[i+1]<0:\n",
    "            zeri.append([x[i],x[i+1]])\n",
    "    return zeri"
   ]
  },
  {
   "cell_type": "code",
   "execution_count": 8,
   "metadata": {},
   "outputs": [
    {
     "name": "stdout",
     "output_type": "stream",
     "text": [
      "Gli zeri della funzione sono compresi negli intervalli:  [[-1.0, -0.5], [1.0, 1.5]]\n"
     ]
    }
   ],
   "source": [
    "intervalli_zeri=trova_zeri(x,y)\n",
    "intervallo1=intervalli_zeri[0]\n",
    "intervallo2=intervalli_zeri[1]\n",
    "print(\"Gli zeri della funzione sono compresi negli intervalli: \",intervalli_zeri)"
   ]
  },
  {
   "cell_type": "code",
   "execution_count": 8,
   "metadata": {},
   "outputs": [],
   "source": [
    "def bisection(f,a,b,N,tolerance=0.0001):\n",
    "    ''' \n",
    "    Metodo di bisezione per trovare lo zero della funzione f\n",
    "    nell'intervallo [a,b] con N iterazioni.\n",
    "    tolerance è la tolleranza per la quale si considera lo zero trovato.\n",
    "    '''\n",
    "   \n",
    "    if f(a)*f(b) >= 0:\n",
    "        print(\"Nessuna soluzione con il merodo di bisezione.\")\n",
    "        return None\n",
    "    a_n = a\n",
    "    b_n = b\n",
    "    n=0\n",
    "    while n<N:\n",
    "        m_n = (a_n + b_n)/2\n",
    "        f_m_n = f(m_n)\n",
    "        if f(a_n)*f_m_n < 0:\n",
    "            a_n = a_n\n",
    "            b_n = m_n\n",
    "        elif f(b_n)*f_m_n < 0:\n",
    "            a_n = m_n\n",
    "            b_n = b_n\n",
    "        elif f_m_n < tolerance:\n",
    "            print(\"Solzione trovata dopo\",n,\"iterazioni.\")\n",
    "            return m_n\n",
    "        else:\n",
    "            print(\"Nessuna soluzione.\")\n",
    "            return None\n",
    "        n=n+1\n",
    "    return (a_n + b_n)/2\n",
    "\n"
   ]
  },
  {
   "cell_type": "code",
   "execution_count": 9,
   "metadata": {},
   "outputs": [
    {
     "name": "stdout",
     "output_type": "stream",
     "text": [
      "Solzione trovata dopo 51 iterazioni.\n"
     ]
    },
    {
     "data": {
      "text/plain": [
       "-0.7707388236988614"
      ]
     },
     "execution_count": 9,
     "metadata": {},
     "output_type": "execute_result"
    }
   ],
   "source": [
    "bisection(f,intervallo1[0],intervallo1[1],100,tolerance=1e-10)"
   ]
  },
  {
   "cell_type": "code",
   "execution_count": 10,
   "metadata": {},
   "outputs": [
    {
     "data": {
      "text/plain": [
       "1.017333984375"
      ]
     },
     "execution_count": 10,
     "metadata": {},
     "output_type": "execute_result"
    }
   ],
   "source": [
    "bisection(f,intervallo2[0],intervallo2[1],10)"
   ]
  },
  {
   "cell_type": "code",
<<<<<<< HEAD
   "execution_count": 9,
=======
   "execution_count": 11,
>>>>>>> 32b101b (test derivata numerica)
   "metadata": {},
   "outputs": [],
   "source": [
    "def df(x):\n",
    "    return np.cos(x**2+2*x)*(2*x+2)-4*x"
   ]
  },
  {
   "cell_type": "code",
<<<<<<< HEAD
   "execution_count": 10,
=======
   "execution_count": 12,
>>>>>>> 32b101b (test derivata numerica)
   "metadata": {},
   "outputs": [],
   "source": [
    "def newton(f,df,x0,tolerance=0.0001):\n",
    "    ''' \n",
    "    Metodo di Newton per trovare lo zero della funzione f\n",
    "    df è la derivata di f\n",
    "    x0 è il punto di partenza\n",
    "    tolerance è la tolleranza per la quale si considera lo zero trovato\n",
    "    '''\n",
    "    delta=abs(f(x0)/df(x0))\n",
    "    while delta>tolerance:\n",
    "        delta=abs(f(x0)/df(x0))\n",
    "        x0=x0-f(x0)/df(x0)\n",
    "    return x0\n"
   ]
  },
  {
   "cell_type": "code",
<<<<<<< HEAD
   "execution_count": 11,
=======
   "execution_count": 13,
>>>>>>> 32b101b (test derivata numerica)
   "metadata": {},
   "outputs": [
    {
     "data": {
      "text/plain": [
       "-0.7707388236988614"
      ]
     },
<<<<<<< HEAD
     "execution_count": 11,
=======
     "execution_count": 13,
>>>>>>> 32b101b (test derivata numerica)
     "metadata": {},
     "output_type": "execute_result"
    }
   ],
   "source": [
    "newton(f,df,intervallo1[0],tolerance=1e-10)"
   ]
  },
  {
   "cell_type": "code",
<<<<<<< HEAD
   "execution_count": 12,
=======
   "execution_count": 14,
>>>>>>> 32b101b (test derivata numerica)
   "metadata": {},
   "outputs": [
    {
     "data": {
      "text/plain": [
       "1.0175757925334004"
      ]
     },
<<<<<<< HEAD
     "execution_count": 12,
=======
     "execution_count": 14,
>>>>>>> 32b101b (test derivata numerica)
     "metadata": {},
     "output_type": "execute_result"
    }
   ],
   "source": [
    "newton(f,df,intervallo2[0],tolerance=1e-6)"
   ]
  },
  {
   "cell_type": "code",
<<<<<<< HEAD
   "execution_count": 13,
=======
   "execution_count": 15,
>>>>>>> 32b101b (test derivata numerica)
   "metadata": {},
   "outputs": [
    {
     "data": {
<<<<<<< HEAD
      "image/png": "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",
=======
      "image/png": "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",
>>>>>>> 32b101b (test derivata numerica)
      "text/plain": [
       "<Figure size 432x288 with 1 Axes>"
      ]
     },
     "metadata": {
      "needs_background": "light"
     },
     "output_type": "display_data"
    }
   ],
   "source": [
    "plt.scatter(x,y)\n",
    "plt.grid( )\n",
    "\n",
    "# plt.xlim(-2,0)\n",
    "# plt.ylim(-1,1)\n",
    "# plt.hlines(0,-10,10)\n",
    "# plt.vlines(0,-200,200)\n",
    "plt.show()"
   ]
  },
  {
   "cell_type": "code",
   "execution_count": 1,
   "metadata": {},
   "outputs": [],
   "source": [
    "def recursive_bisection(f,left,right,tolerance=1e-10):\n",
    "    ''' \n",
    "    Metodo di bisezione ricorsivo per trovare lo zero della funzione f\n",
    "    nell'intervallo [a,b] \n",
    "    tolerance è la tolleranza per la quale si considera lo zero trovato.\n",
    "    '''\n",
    "    m=(left+right)/2\n",
    "    if abs(f(m))<tolerance:\n",
    "        return m\n",
    "    elif f(m)*f(left)<0:\n",
    "        return recursive_bisection(f,left,m,tolerance)\n",
    "    else:\n",
    "        return recursive_bisection(f,m,right,tolerance)"
   ]
  },
  {
   "cell_type": "code",
   "execution_count": null,
   "metadata": {},
   "outputs": [],
   "source": [
    "recursive_bisection(f,intervallo1[0],intervallo1[1],tolerance=1e-3)"
   ]
  },
  {
   "cell_type": "code",
   "execution_count": null,
   "metadata": {},
   "outputs": [],
   "source": []
  },
  {
   "cell_type": "code",
   "execution_count": null,
   "metadata": {},
   "outputs": [],
   "source": []
  }
 ],
 "metadata": {
  "kernelspec": {
   "display_name": "Python 3",
   "language": "python",
   "name": "python3"
  },
  "language_info": {
   "codemirror_mode": {
    "name": "ipython",
    "version": 3
   },
   "file_extension": ".py",
   "mimetype": "text/x-python",
   "name": "python",
   "nbconvert_exporter": "python",
   "pygments_lexer": "ipython3",
   "version": "3.9.13"
  }
 },
 "nbformat": 4,
 "nbformat_minor": 2
}
